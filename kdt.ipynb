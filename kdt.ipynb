{
 "cells": [
  {
   "cell_type": "markdown",
   "metadata": {},
   "source": [
    "# Kd Trees"
   ]
  },
  {
   "cell_type": "markdown",
   "metadata": {
    "collapsed": true
   },
   "source": [
    "A Kd-tree, or K-dimensional tree, is a generalization of a binary search tree that stores points in a k-dimensional space. In computer science it is often used for organizing some number of points in a space with k dimensions. Kd-trees are very useful for range and nearest neighbor (NN) searches, it is a very common operation in computer vision, computational geometry, data mining, machine learning, DNA sequencing. \n",
    "\n",
    "The following code uses a 2-dimensional example.\n",
    "\n",
    "Here is the basic `Node` definition:"
   ]
  },
  {
   "cell_type": "code",
   "execution_count": 2,
   "metadata": {},
   "outputs": [],
   "source": [
    "from collections import namedtuple\n",
    "from pprint import pformat\n",
    "\n",
    "class Node(namedtuple('Node', 'location left_child right_child')):\n",
    "    def __repr__(self):\n",
    "        return pformat(tuple(self))"
   ]
  },
  {
   "cell_type": "markdown",
   "metadata": {},
   "source": [
    "## Creating a Kd tree\n"
   ]
  },
  {
   "cell_type": "markdown",
   "metadata": {},
   "source": [
    "Kd trees are defined by creating the respective `Node` objects. Trees should be balanced, which we can\n",
    "achieve by sorting and using the median as a pivot:"
   ]
  },
  {
   "cell_type": "code",
   "execution_count": 3,
   "metadata": {},
   "outputs": [],
   "source": [
    "from operator import itemgetter\n",
    "\n",
    "def kdtree(point_list, depth=0):\n",
    "    if len(point_list) == 0:\n",
    "        return None\n",
    "    \n",
    "    # Select axis based on depth so that axis cycles through all valid values\n",
    "    # (this is only 2-dim)\n",
    "    axis = depth % 2\n",
    "\n",
    "    # Sort point list and choose median as pivot element\n",
    "    point_list.sort(key=itemgetter(axis))\n",
    "    median = len(point_list) // 2  # choose median\n",
    "    \n",
    "    # Create node and construct subtrees\n",
    "    return Node(\n",
    "        location = point_list[median],\n",
    "        left_child = kdtree(point_list[:median], depth + 1),\n",
    "        right_child = kdtree(point_list[median + 1:], depth + 1)\n",
    "    )"
   ]
  },
  {
   "cell_type": "markdown",
   "metadata": {
    "heading_collapsed": true
   },
   "source": [
    "## Displaying a Kd tree"
   ]
  },
  {
   "cell_type": "markdown",
   "metadata": {
    "hidden": true
   },
   "source": [
    "In order to visualize the algorithms we add a diagram type that shows how to partition the tree"
   ]
  },
  {
   "cell_type": "code",
   "execution_count": 4,
   "metadata": {
    "hidden": true
   },
   "outputs": [],
   "source": [
    "import matplotlib.pyplot as plt\n",
    "\n",
    "# line width for visualization of K-D tree\n",
    "line_width = [4., 3.5, 3., 2.5, 2., 1.5, 1., .5, 0.3]\n",
    "\n",
    "\n",
    "def plot_tree(tree, min_x, max_x, min_y, max_y, prev_node, branch, depth=0):\n",
    "    \"\"\" plot K-D tree\n",
    "    :param tree      input tree to be plotted\n",
    "    :param min_x\n",
    "    :param max_x\n",
    "    :param min_y\n",
    "    :param max_y\n",
    "    :param prev_node parent's node\n",
    "    :param branch    True if left, False if right\n",
    "    :param depth     tree's depth\n",
    "    :return tree     node\n",
    "    \"\"\"\n",
    "\n",
    "    cur_node = tree.location  # current tree's node\n",
    "    left_branch = tree.left_child  # its left branch\n",
    "    right_branch = tree.right_child  # its right branch\n",
    "\n",
    "    # set line's width depending on tree's depth\n",
    "    if depth > len(line_width) - 1:\n",
    "        ln_width = line_width[len(line_width) - 1]\n",
    "    else:\n",
    "        ln_width = line_width[depth]\n",
    "\n",
    "    k = len(cur_node)\n",
    "    axis = depth % k\n",
    "\n",
    "    # draw a vertical splitting line\n",
    "    if axis == 0:\n",
    "        if branch is not None and prev_node is not None:\n",
    "            if branch:\n",
    "                max_y = prev_node[1]\n",
    "            else:\n",
    "                min_y = prev_node[1]\n",
    "\n",
    "        plt.plot([cur_node[0], cur_node[0]], [min_y, max_y], \n",
    "                 linestyle='-', color='red', linewidth=ln_width)\n",
    "\n",
    "    # draw a horizontal splitting line\n",
    "    elif axis == 1:\n",
    "        if branch is not None and prev_node is not None:\n",
    "            if branch:\n",
    "                max_x = prev_node[0]\n",
    "            else:\n",
    "                min_x = prev_node[0]\n",
    "\n",
    "        plt.plot([min_x, max_x], [cur_node[1], cur_node[1]], \n",
    "                 linestyle='-', color='blue', linewidth=ln_width)\n",
    "\n",
    "    # draw the current node\n",
    "    plt.plot(cur_node[0], cur_node[1], 'ko')\n",
    "\n",
    "    # draw left and right branches of the current node\n",
    "    if left_branch is not None:\n",
    "        plot_tree(left_branch, min_x, max_x, min_y, max_y, cur_node, True, depth + 1)\n",
    "\n",
    "    if right_branch is not None:\n",
    "        plot_tree(right_branch, min_x, max_x, min_y, max_y, cur_node, False, depth + 1)\n"
   ]
  },
  {
   "cell_type": "markdown",
   "metadata": {
    "hidden": true
   },
   "source": [
    "This creates a diagram with axis and title into which we draw the kd-tree:"
   ]
  },
  {
   "cell_type": "code",
   "execution_count": 5,
   "metadata": {
    "hidden": true
   },
   "outputs": [],
   "source": [
    "def create_diagram (tree, width, height, min_val, max_val, delta):\n",
    "    plt.figure(\"K-d Tree\", figsize=(width, height))\n",
    "    plt.axis([min_val - delta, max_val + delta, min_val - delta, max_val + delta])\n",
    "\n",
    "    plt.grid(b=True, which='major', color='0.75', linestyle='--')\n",
    "    plt.xticks([i for i in range(min_val - delta, max_val + delta, 1)])\n",
    "    plt.yticks([i for i in range(min_val - delta, max_val + delta, 1)])\n",
    "\n",
    "    # draw the tree\n",
    "    plot_tree(tree, min_val-delta, max_val+delta, min_val-delta, max_val+delta, None, None)\n",
    "    plt.title('K-D Tree')"
   ]
  },
  {
   "cell_type": "markdown",
   "metadata": {
    "hidden": true
   },
   "source": [
    "This labels the tree points in order of insertion (depth first)"
   ]
  },
  {
   "cell_type": "code",
   "execution_count": 6,
   "metadata": {
    "hidden": true
   },
   "outputs": [],
   "source": [
    "def label_nodes (node, i):\n",
    "    loc = node.location\n",
    "    \n",
    "    plt.text(loc[0]+0.15, loc[1]+0.15, str(i), fontsize=10)\n",
    "    \n",
    "    if node.left_child:\n",
    "        i = label_nodes(node.left_child, i+1)\n",
    "        \n",
    "    if node.right_child:\n",
    "        i = label_nodes(node.right_child, i+1)\n",
    "        \n",
    "    return i"
   ]
  },
  {
   "cell_type": "markdown",
   "metadata": {
    "hidden": true
   },
   "source": [
    "The next two functions draw the input and output points for our queries"
   ]
  },
  {
   "cell_type": "code",
   "execution_count": 7,
   "metadata": {
    "hidden": true
   },
   "outputs": [],
   "source": [
    "def draw_target(point,radius):\n",
    "    plt.plot(point[0], point[1], marker='o', color='#ff007f')\n",
    "    circle = plt.Circle(point, 0.3, facecolor='#ff007f', edgecolor='#ff007f', alpha=0.5)\n",
    "    plt.gca().add_patch(circle)\n",
    "\n",
    "    # draw the hypersphere around the target point\n",
    "    circle = plt.Circle(point, radius, facecolor='#ffd83d', edgecolor='#ffd83d', alpha=0.5)\n",
    "    plt.gca().add_patch(circle)"
   ]
  },
  {
   "cell_type": "code",
   "execution_count": 8,
   "metadata": {
    "hidden": true
   },
   "outputs": [],
   "source": [
    "def draw_neighbors(point_list):\n",
    "    for point in point_list:\n",
    "        # draw the found nearest neighbor\n",
    "        plt.plot(point[0], point[1], 'go')\n",
    "        circle = plt.Circle(point, 0.3, facecolor='#33cc00', edgecolor='#33cc00', alpha=0.5)\n",
    "        plt.gca().add_patch(circle)\n",
    "\n"
   ]
  },
  {
   "cell_type": "markdown",
   "metadata": {
    "hidden": true
   },
   "source": [
    "The last visualization function displays the tree as a graph"
   ]
  },
  {
   "cell_type": "code",
   "execution_count": 9,
   "metadata": {
    "hidden": true
   },
   "outputs": [],
   "source": [
    "from graphviz import Digraph\n",
    "\n",
    "def add_node (dot, node, parent_id=None, i=0, edge_label=''):\n",
    "    loc = node.location\n",
    "    node_id = str(i)\n",
    "    dot.node(node_id, f\"{i}\\n({loc[0]},{loc[1]})\")\n",
    "    if parent_id:\n",
    "        dot.edge(parent_id, node_id, label=edge_label)    \n",
    "    if node.left_child:\n",
    "        i = add_node(dot, node.left_child, node_id, i+1, 'l')\n",
    "    if node.right_child:\n",
    "        i = add_node(dot, node.right_child, node_id, i+1, 'r')\n",
    "    return i\n",
    "        \n",
    "def create_graph(tree):\n",
    "    dot = Digraph(comment='Kd-tree')\n",
    "    dot.attr('node', fontsize='10', shape='circle', width='0.5', fixedsize='true')\n",
    "    dot.attr('edge', arrowsize='0.7')\n",
    "    add_node(dot, tree)\n",
    "    return dot"
   ]
  },
  {
   "cell_type": "markdown",
   "metadata": {},
   "source": [
    "## Kd tree example"
   ]
  },
  {
   "cell_type": "markdown",
   "metadata": {},
   "source": [
    "To show the above functions, we add support to generate (random) test data. First some useful constants"
   ]
  },
  {
   "cell_type": "code",
   "execution_count": 10,
   "metadata": {},
   "outputs": [],
   "source": [
    "import sys\n",
    "\n",
    "max_int = sys.maxsize\n",
    "min_int = -max_int - 1\n",
    "max_float = float('inf')"
   ]
  },
  {
   "cell_type": "code",
   "execution_count": 11,
   "metadata": {},
   "outputs": [],
   "source": [
    "import random\n",
    "import numpy as np\n",
    "\n",
    "def generate_target (val_range):\n",
    "    \"\"\"compute so that it does not fall on a tree point\"\"\"\n",
    "    return (np.random.normal(random.randint(val_range[0],val_range[1]), scale=0.5), \n",
    "            np.random.normal(random.randint(val_range[0],val_range[1]), scale=0.5))\n",
    "\n",
    "\n",
    "def generate_point(val_range):\n",
    "    return (random.randint(val_range[0],val_range[1]),\n",
    "            random.randint(val_range[0],val_range[1]))\n",
    "\n",
    "def generate_point_list(n, val_range):\n",
    "    points = []\n",
    "\n",
    "    for i in range(n):\n",
    "        # for the sake of visualization, don't add duplicates\n",
    "        while True:\n",
    "            p = generate_point(val_range)\n",
    "            if p not in points:\n",
    "                points.append(p)\n",
    "                break\n",
    "    return points"
   ]
  },
  {
   "cell_type": "code",
   "execution_count": 12,
   "metadata": {},
   "outputs": [],
   "source": [
    "def get_val_range(point_list):\n",
    "    min_val = max_int\n",
    "    max_val = min_int\n",
    "    for point in point_list:\n",
    "        min_v = min(point)\n",
    "        if min_v < min_val:\n",
    "            min_val = min_v\n",
    "        max_v = max(point)\n",
    "        if max_v > max_val:\n",
    "            max_val = max_v\n",
    "    return (min_val, max_val)"
   ]
  },
  {
   "cell_type": "markdown",
   "metadata": {},
   "source": [
    "Now we are ready to show the Kd-trees in action. We start with fixed input."
   ]
  },
  {
   "cell_type": "code",
   "execution_count": 13,
   "metadata": {},
   "outputs": [
    {
     "name": "stdout",
     "output_type": "stream",
     "text": [
      "((7, 2),\n",
      " ((5, 4), ((2, 3), None, None), ((4, 7), None, None)),\n",
      " ((9, 6), ((8, 1), None, None), None))\n"
     ]
    },
    {
     "data": {
      "image/svg+xml": [
       "<?xml version=\"1.0\" encoding=\"UTF-8\" standalone=\"no\"?>\n",
       "<!DOCTYPE svg PUBLIC \"-//W3C//DTD SVG 1.1//EN\"\n",
       " \"http://www.w3.org/Graphics/SVG/1.1/DTD/svg11.dtd\">\n",
       "<!-- Generated by graphviz version 2.40.1 (20161225.0304)\n",
       " -->\n",
       "<!-- Title: %3 Pages: 1 -->\n",
       "<svg width=\"152pt\" height=\"218pt\"\n",
       " viewBox=\"0.00 0.00 152.00 218.00\" xmlns=\"http://www.w3.org/2000/svg\" xmlns:xlink=\"http://www.w3.org/1999/xlink\">\n",
       "<g id=\"graph0\" class=\"graph\" transform=\"scale(1 1) rotate(0) translate(4 214)\">\n",
       "<title>%3</title>\n",
       "<polygon fill=\"#ffffff\" stroke=\"transparent\" points=\"-4,4 -4,-214 148,-214 148,4 -4,4\"/>\n",
       "<!-- 0 -->\n",
       "<g id=\"node1\" class=\"node\">\n",
       "<title>0</title>\n",
       "<ellipse fill=\"none\" stroke=\"#000000\" cx=\"98\" cy=\"-192\" rx=\"18\" ry=\"18\"/>\n",
       "<text text-anchor=\"middle\" x=\"98\" y=\"-195\" font-family=\"Times,serif\" font-size=\"10.00\" fill=\"#000000\">0</text>\n",
       "<text text-anchor=\"middle\" x=\"98\" y=\"-184\" font-family=\"Times,serif\" font-size=\"10.00\" fill=\"#000000\">(7,2)</text>\n",
       "</g>\n",
       "<!-- 1 -->\n",
       "<g id=\"node2\" class=\"node\">\n",
       "<title>1</title>\n",
       "<ellipse fill=\"none\" stroke=\"#000000\" cx=\"72\" cy=\"-105\" rx=\"18\" ry=\"18\"/>\n",
       "<text text-anchor=\"middle\" x=\"72\" y=\"-108\" font-family=\"Times,serif\" font-size=\"10.00\" fill=\"#000000\">1</text>\n",
       "<text text-anchor=\"middle\" x=\"72\" y=\"-97\" font-family=\"Times,serif\" font-size=\"10.00\" fill=\"#000000\">(5,4)</text>\n",
       "</g>\n",
       "<!-- 0&#45;&gt;1 -->\n",
       "<g id=\"edge1\" class=\"edge\">\n",
       "<title>0&#45;&gt;1</title>\n",
       "<path fill=\"none\" stroke=\"#000000\" d=\"M92.7385,-174.3943C88.8365,-161.3374 83.472,-143.3869 79.1766,-129.014\"/>\n",
       "<polygon fill=\"#000000\" stroke=\"#000000\" points=\"81.5168,-128.288 77.1649,-122.2827 76.8219,-129.6911 81.5168,-128.288\"/>\n",
       "<text text-anchor=\"middle\" x=\"88\" y=\"-144.8\" font-family=\"Times,serif\" font-size=\"14.00\" fill=\"#000000\">l</text>\n",
       "</g>\n",
       "<!-- 4 -->\n",
       "<g id=\"node5\" class=\"node\">\n",
       "<title>4</title>\n",
       "<ellipse fill=\"none\" stroke=\"#000000\" cx=\"126\" cy=\"-105\" rx=\"18\" ry=\"18\"/>\n",
       "<text text-anchor=\"middle\" x=\"126\" y=\"-108\" font-family=\"Times,serif\" font-size=\"10.00\" fill=\"#000000\">4</text>\n",
       "<text text-anchor=\"middle\" x=\"126\" y=\"-97\" font-family=\"Times,serif\" font-size=\"10.00\" fill=\"#000000\">(9,6)</text>\n",
       "</g>\n",
       "<!-- 0&#45;&gt;4 -->\n",
       "<g id=\"edge4\" class=\"edge\">\n",
       "<title>0&#45;&gt;4</title>\n",
       "<path fill=\"none\" stroke=\"#000000\" d=\"M103.5319,-174.8116C107.7504,-161.7042 113.612,-143.4914 118.2904,-128.955\"/>\n",
       "<polygon fill=\"#000000\" stroke=\"#000000\" points=\"120.6672,-129.5667 120.4796,-122.1527 116.0028,-128.0655 120.6672,-129.5667\"/>\n",
       "<text text-anchor=\"middle\" x=\"115.5\" y=\"-144.8\" font-family=\"Times,serif\" font-size=\"14.00\" fill=\"#000000\">r</text>\n",
       "</g>\n",
       "<!-- 2 -->\n",
       "<g id=\"node3\" class=\"node\">\n",
       "<title>2</title>\n",
       "<ellipse fill=\"none\" stroke=\"#000000\" cx=\"18\" cy=\"-18\" rx=\"18\" ry=\"18\"/>\n",
       "<text text-anchor=\"middle\" x=\"18\" y=\"-21\" font-family=\"Times,serif\" font-size=\"10.00\" fill=\"#000000\">2</text>\n",
       "<text text-anchor=\"middle\" x=\"18\" y=\"-10\" font-family=\"Times,serif\" font-size=\"10.00\" fill=\"#000000\">(2,3)</text>\n",
       "</g>\n",
       "<!-- 1&#45;&gt;2 -->\n",
       "<g id=\"edge2\" class=\"edge\">\n",
       "<title>1&#45;&gt;2</title>\n",
       "<path fill=\"none\" stroke=\"#000000\" d=\"M62.3459,-89.4461C53.7455,-75.5899 41.0731,-55.1733 31.475,-39.7097\"/>\n",
       "<polygon fill=\"#000000\" stroke=\"#000000\" points=\"33.3437,-38.0746 27.5705,-33.4192 29.1805,-40.6587 33.3437,-38.0746\"/>\n",
       "<text text-anchor=\"middle\" x=\"51\" y=\"-57.8\" font-family=\"Times,serif\" font-size=\"14.00\" fill=\"#000000\">l</text>\n",
       "</g>\n",
       "<!-- 3 -->\n",
       "<g id=\"node4\" class=\"node\">\n",
       "<title>3</title>\n",
       "<ellipse fill=\"none\" stroke=\"#000000\" cx=\"72\" cy=\"-18\" rx=\"18\" ry=\"18\"/>\n",
       "<text text-anchor=\"middle\" x=\"72\" y=\"-21\" font-family=\"Times,serif\" font-size=\"10.00\" fill=\"#000000\">3</text>\n",
       "<text text-anchor=\"middle\" x=\"72\" y=\"-10\" font-family=\"Times,serif\" font-size=\"10.00\" fill=\"#000000\">(4,7)</text>\n",
       "</g>\n",
       "<!-- 1&#45;&gt;3 -->\n",
       "<g id=\"edge3\" class=\"edge\">\n",
       "<title>1&#45;&gt;3</title>\n",
       "<path fill=\"none\" stroke=\"#000000\" d=\"M72,-86.9735C72,-74.2586 72,-57.0603 72,-43.0183\"/>\n",
       "<polygon fill=\"#000000\" stroke=\"#000000\" points=\"74.4501,-43.0033 72,-36.0034 69.5501,-43.0034 74.4501,-43.0033\"/>\n",
       "<text text-anchor=\"middle\" x=\"74.5\" y=\"-57.8\" font-family=\"Times,serif\" font-size=\"14.00\" fill=\"#000000\">r</text>\n",
       "</g>\n",
       "<!-- 5 -->\n",
       "<g id=\"node6\" class=\"node\">\n",
       "<title>5</title>\n",
       "<ellipse fill=\"none\" stroke=\"#000000\" cx=\"126\" cy=\"-18\" rx=\"18\" ry=\"18\"/>\n",
       "<text text-anchor=\"middle\" x=\"126\" y=\"-21\" font-family=\"Times,serif\" font-size=\"10.00\" fill=\"#000000\">5</text>\n",
       "<text text-anchor=\"middle\" x=\"126\" y=\"-10\" font-family=\"Times,serif\" font-size=\"10.00\" fill=\"#000000\">(8,1)</text>\n",
       "</g>\n",
       "<!-- 4&#45;&gt;5 -->\n",
       "<g id=\"edge5\" class=\"edge\">\n",
       "<title>4&#45;&gt;5</title>\n",
       "<path fill=\"none\" stroke=\"#000000\" d=\"M126,-86.9735C126,-74.2586 126,-57.0603 126,-43.0183\"/>\n",
       "<polygon fill=\"#000000\" stroke=\"#000000\" points=\"128.4501,-43.0033 126,-36.0034 123.5501,-43.0034 128.4501,-43.0033\"/>\n",
       "<text text-anchor=\"middle\" x=\"128\" y=\"-57.8\" font-family=\"Times,serif\" font-size=\"14.00\" fill=\"#000000\">l</text>\n",
       "</g>\n",
       "</g>\n",
       "</svg>\n"
      ],
      "text/plain": [
       "<graphviz.dot.Digraph at 0x7f1aa7ffff98>"
      ]
     },
     "execution_count": 13,
     "metadata": {},
     "output_type": "execute_result"
    }
   ],
   "source": [
    "point_list = [(2,3), (5,4), (9,6), (4,7), (8,1), (7,2)]\n",
    "tree = kdtree(point_list)\n",
    "min_val, max_val = get_val_range(point_list)\n",
    "print(tree)\n",
    "create_graph(tree)"
   ]
  },
  {
   "cell_type": "code",
   "execution_count": 14,
   "metadata": {},
   "outputs": [
    {
     "data": {
      "image/png": "[encoded data removed]",
      "text/plain": [
       "<Figure size 360x360 with 1 Axes>"
      ]
     },
     "metadata": {
      "needs_background": "light"
     },
     "output_type": "display_data"
    }
   ],
   "source": [
    "create_diagram(tree, 5., 5., min_val, max_val, 1)\n",
    "label_nodes(tree, 0)\n",
    "plt.show()"
   ]
  },
  {
   "cell_type": "markdown",
   "metadata": {},
   "source": [
    "To see how this scales up, play with the parameter widgets below"
   ]
  },
  {
   "cell_type": "code",
   "execution_count": 15,
   "metadata": {},
   "outputs": [
    {
     "data": {
      "application/vnd.jupyter.widget-view+json": {
       "model_id": "fe1b218c37c1460f9b836c19307f12ca",
       "version_major": 2,
       "version_minor": 0
      },
      "text/plain": [
       "interactive(children=(IntSlider(value=10, description='n', max=50, min=5), IntSlider(value=0, description='min…"
      ]
     },
     "metadata": {},
     "output_type": "display_data"
    }
   ],
   "source": [
    "from __future__ import print_function\n",
    "from ipywidgets import interact, interactive, fixed, interact_manual\n",
    "import ipywidgets as widgets\n",
    "\n",
    "def plot_example(n, min_val, max_val):\n",
    "    tree = kdtree(generate_point_list(n, (min_val, max_val)))\n",
    "    create_diagram(tree, 8., 8., min_val, max_val, 1)\n",
    "    \n",
    "interact(plot_example, \n",
    "         n=widgets.IntSlider(min=5,max=50,step=1,value=10),\n",
    "         min_val=0, max_val=10)\n",
    "\n",
    "plt.show()"
   ]
  },
  {
   "cell_type": "markdown",
   "metadata": {},
   "source": [
    "## Nearest Neighbor search"
   ]
  },
  {
   "cell_type": "markdown",
   "metadata": {},
   "source": [
    "First, we need some auxiliary infrastructure. We start with a class that provides an interface which will generalize the types of queries we can do:\n",
    "\n",
    " - what is the nearest neighbor in the tree for a given target location\n",
    " - which are the N nearest neighbors for a given target\n",
    " - what are all the neighbors within distance R of a given target\n",
    "    \n",
    "This also abstracts the nature of location coordinates by providing `distance()` functions, which do not have to be cartesian "
   ]
  },
  {
   "cell_type": "code",
   "execution_count": 16,
   "metadata": {},
   "outputs": [],
   "source": [
    "import math\n",
    "\n",
    "class NearestNeighborResult:\n",
    "    def __init__(self):\n",
    "        self.distance = float('inf')\n",
    "        self.location = None\n",
    "\n",
    "    def can_contain(self, rel_dist):\n",
    "        return rel_dist < self.distance  \n",
    "        \n",
    "    def update(self, dist, loc):\n",
    "        if dist < self.distance:\n",
    "            self.distance = dist\n",
    "            self.location = loc\n",
    "        return self\n",
    "\n",
    "    def compute_rel_distance(self, loc_a, loc_b):\n",
    "        return (loc_a[0] - loc_b[0])**2 + (loc_a[1] - loc_b[1])**2\n",
    "    \n",
    "    def get_abs_distance(self):\n",
    "        return math.sqrt(self.distance)"
   ]
  },
  {
   "cell_type": "markdown",
   "metadata": {},
   "source": [
    "Second, we need a helper to compute the (hypothetical) nearest point in a sub-tree (hyperplane): "
   ]
  },
  {
   "cell_type": "code",
   "execution_count": 17,
   "metadata": {},
   "outputs": [],
   "source": [
    "def compute_closest_coordinate(value, range_min, range_max):\n",
    "    if value <= range_min:      #  X  <------->\n",
    "        return range_min        #     ^\n",
    "    elif value >= range_max:    #  <-------->  X\n",
    "        return range_max        #           ^\n",
    "    else:                       #    <------X--->\n",
    "        return value            #           ^\n",
    "    \n",
    "def compute_closest_point(location, hr):\n",
    "    return (compute_closest_coordinate( location[0], hr[0][0], hr[1][0]),\n",
    "            compute_closest_coordinate( location[1], hr[1][1], hr[0][1]))"
   ]
  },
  {
   "cell_type": "markdown",
   "metadata": {},
   "source": [
    "The next helper is used to split a bounding region (*hyperplane*) based on a given test point and axis."
   ]
  },
  {
   "cell_type": "code",
   "execution_count": 18,
   "metadata": {},
   "outputs": [],
   "source": [
    "def split_hyperplane (point, hr, axis):\n",
    "    if axis == 0:\n",
    "        left_hr = [hr[0], (point[0], hr[1][1])]\n",
    "        right_hr = [(point[0], hr[0][1]), hr[1]]\n",
    "        \n",
    "    elif axis == 1:\n",
    "        left_hr = [(hr[0][0], point[1]), hr[1]]\n",
    "        right_hr = [hr[0], (hr[1][0], point[1])]\n",
    "        \n",
    "    return left_hr, right_hr"
   ]
  },
  {
   "cell_type": "markdown",
   "metadata": {},
   "source": [
    "We also need some global constants and variables:"
   ]
  },
  {
   "cell_type": "code",
   "execution_count": 19,
   "metadata": {},
   "outputs": [],
   "source": [
    "import sys\n",
    "\n",
    "maxint = sys.maxsize\n",
    "minint = -maxint - 1\n",
    "hr_max = [(minint, maxint), (maxint, minint)]\n",
    "dist_max = float('inf')\n",
    "\n",
    "search_steps = 0   # just some call statistics to see how good the algorithm works"
   ]
  },
  {
   "cell_type": "markdown",
   "metadata": {},
   "source": [
    "Now we can formulate the nearest neighbor search algorithm. It goes like this:\n",
    "\n",
    "  1. Starting with the root node, the algorithm moves down the tree recursively (it goes left or right depending on whether the point is less than or greater than the current node in the split dimension).\n",
    "  2. Traversing the tree the algorithm saves the node featured by the shortest distance to the target point as the “current best”.\n",
    "  3. Once the algorithm reaches a leaf node, it unwinds the recursion of the tree performing the following steps at each node:\n",
    "     a. If the current node is closer than the current best, then it becomes the current best.\n",
    "     b. The algorithm checks whether there could be any points on the other side of the splitting plane that are closer to the target point than the current best. This is done by intersecting the splitting hyperplane with a hypersphere around the target point. The sphere has a radius equal to the current nearest distance. Since the hyperplanes are all axis-aligned, this is implemented as a simple comparison to see whether the difference between the splitting coordinate of the target point and the current node is less than the distance from the target point to the current best. For this we will use so-called *hyper-rectangles*: every hyperplane divides the current hyperrectangle into two pieces: “near hyperrectangle” where the target point belongs to and “further hyperrectangle” on the other side of the hyperplane.\n",
    "        - If the hypersphere crosses the plane, there could be nearer points on the other side of the plane. It means the algorithm must move down the other branch of the tree from the current node looking for closer points, following the same recursive process as the entire search.\n",
    "        - If the hypersphere doesn’t intersect the splitting plane, then the algorithm continues walking up the tree, and the entire branch on the other side of that node is eliminated.\n",
    "  4. The search is complete when the algorithm finishes this procedure for the root node"
   ]
  },
  {
   "cell_type": "code",
   "execution_count": 20,
   "metadata": {},
   "outputs": [],
   "source": [
    "def search_kdtree(tree, target_point, result, hr=hr_max, depth=0):\n",
    "    global search_steps\n",
    "    if depth == 0:\n",
    "        search_steps = 1\n",
    "    else:\n",
    "        search_steps += 1\n",
    "\n",
    "    cur_node = tree.location\n",
    "    left_branch = tree.left_child\n",
    "    right_branch = tree.right_child\n",
    "\n",
    "    nearer_kd = farther_kd = None\n",
    "    nearer_hr = farther_hr = None\n",
    "\n",
    "    # Select axis based on depth so that axis cycles through all valid values\n",
    "    # (we only use 2 dim here)\n",
    "    axis = depth % 2\n",
    "\n",
    "    # split the hyperplane depending on the axis\n",
    "    left_hr, right_hr = split_hyperplane(cur_node, hr, axis)\n",
    "\n",
    "    # check which hyperplane the target point belongs to\n",
    "    if target_point[axis] <= cur_node[axis]:\n",
    "        nearer_kd = left_branch\n",
    "        farther_kd = right_branch\n",
    "        nearer_hr = left_hr\n",
    "        farther_hr = right_hr\n",
    "    else:\n",
    "        nearer_kd = right_branch\n",
    "        farther_kd = left_branch\n",
    "        nearer_hr = right_hr\n",
    "        farther_hr = left_hr\n",
    "\n",
    "    # check whether the current node is closer\n",
    "    dist = result.compute_rel_distance(cur_node, target_point)\n",
    "    new_result = result.update(dist, cur_node)\n",
    "    \n",
    "    # first, go deeper in the tree along the nearer_kd branch\n",
    "    if nearer_kd:\n",
    "        search_kdtree(nearer_kd, target_point, new_result, nearer_hr, depth+1)\n",
    "\n",
    "    # there still could be a nearer point (px,py) in the farther_kd, \n",
    "    #   compute the possibly closest point in that region\n",
    "    if farther_kd:\n",
    "        pt = compute_closest_point(target_point, farther_hr)\n",
    "\n",
    "        # check if this hypothetical point would be closer than the current nearest neighbor\n",
    "        dist = new_result.compute_rel_distance( pt, target_point)\n",
    "        if new_result.can_contain(dist):\n",
    "            new_result = search_kdtree(farther_kd, target_point, new_result, farther_hr, depth+1)\n",
    "            \n",
    "    return new_result"
   ]
  },
  {
   "cell_type": "markdown",
   "metadata": {},
   "source": [
    "Let's put this to test. Run the next cell a couple of times to verify the results."
   ]
  },
  {
   "cell_type": "code",
   "execution_count": 21,
   "metadata": {},
   "outputs": [],
   "source": [
    "def create_and_plot_tree(n, val_range):\n",
    "    point_list = generate_point_list(n, val_range)\n",
    "    tree = kdtree(point_list)\n",
    "    create_diagram(tree, 8., 8., val_range[0], val_range[1], 1)\n",
    "    return tree\n",
    "\n",
    "def mark_nodes(target, dist, nodes):\n",
    "    draw_target(point, dist)\n",
    "    draw_neighbors(nodes)"
   ]
  },
  {
   "cell_type": "code",
   "execution_count": 22,
   "metadata": {},
   "outputs": [
    {
     "name": "stdout",
     "output_type": "stream",
     "text": [
      "number of nodes: 50\n",
      "number of search steps: 6\n"
     ]
    },
    {
     "data": {
      "image/png": "[encoded data removed]",
      "text/plain": [
       "<Figure size 576x576 with 1 Axes>"
      ]
     },
     "metadata": {
      "needs_background": "light"
     },
     "output_type": "display_data"
    }
   ],
   "source": [
    "n = 50\n",
    "val_range = (0, 20)\n",
    "tree = create_and_plot_tree( n, val_range)\n",
    "point = generate_target(val_range)\n",
    "\n",
    "result = search_kdtree(tree, point, NearestNeighborResult())\n",
    "print(f\"number of nodes: {n}\")\n",
    "print(f\"number of search steps: {search_steps}\")\n",
    "\n",
    "mark_nodes(point, result.get_abs_distance(), [result.location])\n",
    "plt.show()"
   ]
  },
  {
   "cell_type": "markdown",
   "metadata": {},
   "source": [
    "Finding the NN is a $O(\\log n)$ operation in case of randomly distributed points. The biggest advantage of the NN search using Kd-trees is that it allows us to eliminate many points from consideration and focus only on some tree’s branches. However, in high-dimensional spaces, the curse of dimensionality causes the algorithm to visit many more branches than in lower-dimensional spaces. In particular, when the number of points is only slightly higher than the number of dimensions, the algorithm is only slightly better than a linear search of all points."
   ]
  },
  {
   "cell_type": "markdown",
   "metadata": {},
   "source": [
    "## N nearest neighbors"
   ]
  },
  {
   "cell_type": "markdown",
   "metadata": {},
   "source": [
    "Extending this algorithm to find the N nearest neightbors is straight forward - we just have to replace the `result` argument with a type that implements a sorted list with an upper size bound"
   ]
  },
  {
   "cell_type": "code",
   "execution_count": 23,
   "metadata": {},
   "outputs": [],
   "source": [
    "from sortedcontainers import SortedList\n",
    "\n",
    "class NNeighborsResult:\n",
    "    def __init__(self, n):\n",
    "        self.n = n\n",
    "        self.list = SortedList(None,key=itemgetter(0))\n",
    "        self.dist_max = float('inf')\n",
    "        \n",
    "    def size(self):\n",
    "        return len(self.list)\n",
    "        \n",
    "    def can_contain(self, rel_dist):\n",
    "        return rel_dist < self.dist_max  \n",
    "        \n",
    "    def update(self, dist, loc):\n",
    "        if len(self.list) < self.n:  # not full yet\n",
    "            self.list.add((dist, loc))\n",
    "            if dist > self.dist_max:\n",
    "                self.dist_max = dist\n",
    "                \n",
    "        elif dist < self.dist_max:   # full, check dist_max\n",
    "            self.list.add((dist, loc))\n",
    "            self.list.pop(self.n)\n",
    "            self.dist_max = self.list[self.n-1][0]\n",
    "            \n",
    "        return self\n",
    "\n",
    "    def compute_rel_distance(self, loc_a, loc_b):\n",
    "        return (loc_a[0] - loc_b[0])**2 + (loc_a[1] - loc_b[1])**2\n",
    "    \n",
    "    def get_abs_distance(self):\n",
    "        return math.sqrt(self.dist_max)"
   ]
  },
  {
   "cell_type": "code",
   "execution_count": 24,
   "metadata": {},
   "outputs": [
    {
     "name": "stdout",
     "output_type": "stream",
     "text": [
      "number of nodes: 50\n",
      "number of neighbors: 5\n",
      "number of search steps: 24\n"
     ]
    },
    {
     "data": {
      "image/png": "[encoded data removed]",
      "text/plain": [
       "<Figure size 576x576 with 1 Axes>"
      ]
     },
     "metadata": {
      "needs_background": "light"
     },
     "output_type": "display_data"
    }
   ],
   "source": [
    "n = 50\n",
    "val_range = (0, 20)\n",
    "tree = create_and_plot_tree( n, val_range)\n",
    "point = generate_target(val_range)\n",
    "\n",
    "result = search_kdtree(tree, point, NNeighborsResult(5))\n",
    "print(f\"number of nodes: {n}\")\n",
    "print(f\"number of neighbors: {result.size()}\")\n",
    "print(f\"number of search steps: {search_steps}\")\n",
    "\n",
    "mark_nodes(point, result.get_abs_distance(), map(lambda r: r[1], result.list))\n",
    "plt.show()"
   ]
  },
  {
   "cell_type": "markdown",
   "metadata": {},
   "source": [
    "## Range Query"
   ]
  },
  {
   "cell_type": "markdown",
   "metadata": {},
   "source": [
    "To find all nodes which are within a given distance of the target point we can use the following result type"
   ]
  },
  {
   "cell_type": "code",
   "execution_count": 25,
   "metadata": {},
   "outputs": [],
   "source": [
    "class RangeNeighborsResult:\n",
    "    def __init__(self, abs_dist):\n",
    "        self.list = SortedList(None,key=itemgetter(0))\n",
    "        self.dist_max = abs_dist**2\n",
    "        \n",
    "    def size(self):\n",
    "        return len(self.list)\n",
    "        \n",
    "    def can_contain(self, rel_dist):\n",
    "        return rel_dist < self.dist_max  \n",
    "        \n",
    "    def update(self, dist, loc):\n",
    "        if dist < self.dist_max:\n",
    "            self.list.add((dist, loc))\n",
    "        return self\n",
    "\n",
    "    def compute_rel_distance(self, loc_a, loc_b):\n",
    "        return (loc_a[0] - loc_b[0])**2 + (loc_a[1] - loc_b[1])**2\n",
    "    \n",
    "    def get_abs_distance(self):\n",
    "        return math.sqrt(self.dist_max)"
   ]
  },
  {
   "cell_type": "code",
   "execution_count": 26,
   "metadata": {},
   "outputs": [
    {
     "name": "stdout",
     "output_type": "stream",
     "text": [
      "number of nodes: 50\n",
      "number of neighbors in range <= 6: 7\n",
      "number of search steps: 20\n"
     ]
    },
    {
     "data": {
      "image/png": "[encoded data removed]",
      "text/plain": [
       "<Figure size 576x576 with 1 Axes>"
      ]
     },
     "metadata": {
      "needs_background": "light"
     },
     "output_type": "display_data"
    }
   ],
   "source": [
    "n = 50\n",
    "val_range = (0, 20)\n",
    "max_distance = 6\n",
    "tree = create_and_plot_tree( n, val_range)\n",
    "point = generate_target(val_range)\n",
    "\n",
    "result = search_kdtree(tree, point, RangeNeighborsResult(max_distance))\n",
    "print(f\"number of nodes: {n}\")\n",
    "print(f\"number of neighbors in range <= {max_distance}: {result.size()}\")\n",
    "print(f\"number of search steps: {search_steps}\")\n",
    "\n",
    "mark_nodes(point, result.get_abs_distance(), map(lambda r: r[1], result.list))\n",
    "plt.show()"
   ]
  }
 ],
 "metadata": {
  "kernelspec": {
   "display_name": "Python 3",
   "language": "python",
   "name": "python3"
  },
  "language_info": {
   "codemirror_mode": {
    "name": "ipython",
    "version": 3
   },
   "file_extension": ".py",
   "mimetype": "text/x-python",
   "name": "python",
   "nbconvert_exporter": "python",
   "pygments_lexer": "ipython3",
   "version": "3.7.0"
  },
  "toc": {
   "base_numbering": 1,
   "nav_menu": {},
   "number_sections": true,
   "sideBar": true,
   "skip_h1_title": false,
   "title_cell": "Table of Contents",
   "title_sidebar": "Contents",
   "toc_cell": false,
   "toc_position": {
    "height": "calc(100% - 180px)",
    "left": "10px",
    "top": "150px",
    "width": "218.797px"
   },
   "toc_section_display": true,
   "toc_window_display": true
  },
  "widgets": {
   "application/vnd.jupyter.widget-state+json": {
    "state": {
     "020aa178598640688073567aacd51b88": {
      "model_module": "@jupyter-widgets/base",
      "model_module_version": "1.1.0",
      "model_name": "LayoutModel",
      "state": {}
     },
     "07d0013af44241d08e770f526e884132": {
      "model_module": "@jupyter-widgets/controls",
      "model_module_version": "1.4.0",
      "model_name": "SliderStyleModel",
      "state": {
       "description_width": ""
      }
     },
     "0cee3769e0c04ced8ac7a123d2f56200": {
      "model_module": "@jupyter-widgets/controls",
      "model_module_version": "1.4.0",
      "model_name": "SliderStyleModel",
      "state": {
       "description_width": ""
      }
     },
     "130ba7ad1c03494f929bb1772ce8baac": {
      "model_module": "@jupyter-widgets/controls",
      "model_module_version": "1.4.0",
      "model_name": "IntSliderModel",
      "state": {
       "description": "n",
       "layout": "IPY_MODEL_020aa178598640688073567aacd51b88",
       "max": 50,
       "min": 5,
       "style": "IPY_MODEL_0cee3769e0c04ced8ac7a123d2f56200",
       "value": 10
      }
     },
     "14e47001a7e1441eb877700599aad516": {
      "model_module": "@jupyter-widgets/base",
      "model_module_version": "1.1.0",
      "model_name": "LayoutModel",
      "state": {}
     },
     "238f9264bb404fa49bc94f40fade3a1f": {
      "model_module": "@jupyter-widgets/base",
      "model_module_version": "1.1.0",
      "model_name": "LayoutModel",
      "state": {}
     },
     "2928c566e2d646ad9b29fbbc8aeaee94": {
      "model_module": "@jupyter-widgets/controls",
      "model_module_version": "1.4.0",
      "model_name": "IntSliderModel",
      "state": {
       "description": "min_val",
       "layout": "IPY_MODEL_5a7ee13384d34a23b45ec71220295c54",
       "max": 1,
       "style": "IPY_MODEL_c6e18a5c9e6643d79e6b7765c64ab52b"
      }
     },
     "3442775efb64439aba1a3f3769445741": {
      "model_module": "@jupyter-widgets/output",
      "model_module_version": "1.0.0",
      "model_name": "OutputModel",
      "state": {
       "layout": "IPY_MODEL_d20636a8bcbd4c3eb3a1af2316eaeed2",
       "outputs": [
        {
         "ename": "NameError",
         "evalue": "name 'kdtree' is not defined",
         "output_type": "error",
         "traceback": [
          "\u001b[0;31m---------------------------------------------------------------------------\u001b[0m",
          "\u001b[0;31mNameError\u001b[0m                                 Traceback (most recent call last)",
          "\u001b[0;32m~/anaconda3/lib/python3.7/site-packages/ipywidgets/widgets/interaction.py\u001b[0m in \u001b[0;36mupdate\u001b[0;34m(self, *args)\u001b[0m\n\u001b[1;32m    249\u001b[0m                     \u001b[0mvalue\u001b[0m \u001b[0;34m=\u001b[0m \u001b[0mwidget\u001b[0m\u001b[0;34m.\u001b[0m\u001b[0mget_interact_value\u001b[0m\u001b[0;34m(\u001b[0m\u001b[0;34m)\u001b[0m\u001b[0;34m\u001b[0m\u001b[0m\n\u001b[1;32m    250\u001b[0m                     \u001b[0mself\u001b[0m\u001b[0;34m.\u001b[0m\u001b[0mkwargs\u001b[0m\u001b[0;34m[\u001b[0m\u001b[0mwidget\u001b[0m\u001b[0;34m.\u001b[0m\u001b[0m_kwarg\u001b[0m\u001b[0;34m]\u001b[0m \u001b[0;34m=\u001b[0m \u001b[0mvalue\u001b[0m\u001b[0;34m\u001b[0m\u001b[0m\n\u001b[0;32m--> 251\u001b[0;31m                 \u001b[0mself\u001b[0m\u001b[0;34m.\u001b[0m\u001b[0mresult\u001b[0m \u001b[0;34m=\u001b[0m \u001b[0mself\u001b[0m\u001b[0;34m.\u001b[0m\u001b[0mf\u001b[0m\u001b[0;34m(\u001b[0m\u001b[0;34m**\u001b[0m\u001b[0mself\u001b[0m\u001b[0;34m.\u001b[0m\u001b[0mkwargs\u001b[0m\u001b[0;34m)\u001b[0m\u001b[0;34m\u001b[0m\u001b[0m\n\u001b[0m\u001b[1;32m    252\u001b[0m                 \u001b[0mshow_inline_matplotlib_plots\u001b[0m\u001b[0;34m(\u001b[0m\u001b[0;34m)\u001b[0m\u001b[0;34m\u001b[0m\u001b[0m\n\u001b[1;32m    253\u001b[0m                 \u001b[0;32mif\u001b[0m \u001b[0mself\u001b[0m\u001b[0;34m.\u001b[0m\u001b[0mauto_display\u001b[0m \u001b[0;32mand\u001b[0m \u001b[0mself\u001b[0m\u001b[0;34m.\u001b[0m\u001b[0mresult\u001b[0m \u001b[0;32mis\u001b[0m \u001b[0;32mnot\u001b[0m \u001b[0;32mNone\u001b[0m\u001b[0;34m:\u001b[0m\u001b[0;34m\u001b[0m\u001b[0m\n",
          "\u001b[0;32m<ipython-input-1-7fd4551dd27f>\u001b[0m in \u001b[0;36mplot_example\u001b[0;34m(n, min_val, max_val)\u001b[0m\n\u001b[1;32m      4\u001b[0m \u001b[0;34m\u001b[0m\u001b[0m\n\u001b[1;32m      5\u001b[0m \u001b[0;32mdef\u001b[0m \u001b[0mplot_example\u001b[0m\u001b[0;34m(\u001b[0m\u001b[0mn\u001b[0m\u001b[0;34m,\u001b[0m \u001b[0mmin_val\u001b[0m\u001b[0;34m,\u001b[0m \u001b[0mmax_val\u001b[0m\u001b[0;34m)\u001b[0m\u001b[0;34m:\u001b[0m\u001b[0;34m\u001b[0m\u001b[0m\n\u001b[0;32m----> 6\u001b[0;31m     \u001b[0mtree\u001b[0m \u001b[0;34m=\u001b[0m \u001b[0mkdtree\u001b[0m\u001b[0;34m(\u001b[0m\u001b[0mgenerate_point_list\u001b[0m\u001b[0;34m(\u001b[0m\u001b[0mn\u001b[0m\u001b[0;34m,\u001b[0m \u001b[0;34m(\u001b[0m\u001b[0mmin_val\u001b[0m\u001b[0;34m,\u001b[0m \u001b[0mmax_val\u001b[0m\u001b[0;34m)\u001b[0m\u001b[0;34m)\u001b[0m\u001b[0;34m)\u001b[0m\u001b[0;34m\u001b[0m\u001b[0m\n\u001b[0m\u001b[1;32m      7\u001b[0m     \u001b[0mcreate_diagram\u001b[0m\u001b[0;34m(\u001b[0m\u001b[0mtree\u001b[0m\u001b[0;34m,\u001b[0m \u001b[0;36m8.\u001b[0m\u001b[0;34m,\u001b[0m \u001b[0;36m8.\u001b[0m\u001b[0;34m,\u001b[0m \u001b[0mmin_val\u001b[0m\u001b[0;34m,\u001b[0m \u001b[0mmax_val\u001b[0m\u001b[0;34m,\u001b[0m \u001b[0;36m1\u001b[0m\u001b[0;34m)\u001b[0m\u001b[0;34m\u001b[0m\u001b[0m\n\u001b[1;32m      8\u001b[0m \u001b[0;34m\u001b[0m\u001b[0m\n",
          "\u001b[0;31mNameError\u001b[0m: name 'kdtree' is not defined"
         ]
        }
       ]
      }
     },
     "4ccd001e87ce415f9b968a60c45f0255": {
      "model_module": "@jupyter-widgets/output",
      "model_module_version": "1.0.0",
      "model_name": "OutputModel",
      "state": {
       "layout": "IPY_MODEL_d1c37bc7ca16404f9f74b287d6fc5fe7",
       "outputs": [
        {
         "data": {
          "image/png": "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\n",
          "text/plain": "<Figure size 576x576 with 1 Axes>"
         },
         "metadata": {
          "needs_background": "light"
         },
         "output_type": "display_data"
        }
       ]
      }
     },
     "54d9a064348f4e4c8c49e4f38d7c19cd": {
      "model_module": "@jupyter-widgets/controls",
      "model_module_version": "1.4.0",
      "model_name": "IntSliderModel",
      "state": {
       "description": "max_val",
       "layout": "IPY_MODEL_62b33091d9a548d8a05516c9cf5dd27a",
       "max": 30,
       "min": -10,
       "style": "IPY_MODEL_f06d5dad99c544e4bf0e212dbc553d3d",
       "value": 10
      }
     },
     "5a7ee13384d34a23b45ec71220295c54": {
      "model_module": "@jupyter-widgets/base",
      "model_module_version": "1.1.0",
      "model_name": "LayoutModel",
      "state": {}
     },
     "62b33091d9a548d8a05516c9cf5dd27a": {
      "model_module": "@jupyter-widgets/base",
      "model_module_version": "1.1.0",
      "model_name": "LayoutModel",
      "state": {}
     },
     "657215a069a1411182ad936e9800395b": {
      "model_module": "@jupyter-widgets/controls",
      "model_module_version": "1.4.0",
      "model_name": "IntSliderModel",
      "state": {
       "description": "min_val",
       "layout": "IPY_MODEL_14e47001a7e1441eb877700599aad516",
       "max": 1,
       "style": "IPY_MODEL_858df9a72f684744883c15d87f3d944b"
      }
     },
     "858df9a72f684744883c15d87f3d944b": {
      "model_module": "@jupyter-widgets/controls",
      "model_module_version": "1.4.0",
      "model_name": "SliderStyleModel",
      "state": {
       "description_width": ""
      }
     },
     "8746f196aec7470c95006bccf4606996": {
      "model_module": "@jupyter-widgets/base",
      "model_module_version": "1.1.0",
      "model_name": "LayoutModel",
      "state": {}
     },
     "a748a2bbaed2443fa2e04f25ccd8a206": {
      "model_module": "@jupyter-widgets/controls",
      "model_module_version": "1.4.0",
      "model_name": "VBoxModel",
      "state": {
       "_dom_classes": [
        "widget-interact"
       ],
       "children": [
        "IPY_MODEL_130ba7ad1c03494f929bb1772ce8baac",
        "IPY_MODEL_2928c566e2d646ad9b29fbbc8aeaee94",
        "IPY_MODEL_54d9a064348f4e4c8c49e4f38d7c19cd",
        "IPY_MODEL_3442775efb64439aba1a3f3769445741"
       ],
       "layout": "IPY_MODEL_238f9264bb404fa49bc94f40fade3a1f"
      }
     },
     "ac913b6c48bd4a759f4f00bd9f5df784": {
      "model_module": "@jupyter-widgets/base",
      "model_module_version": "1.1.0",
      "model_name": "LayoutModel",
      "state": {}
     },
     "b9f47dc105894e498404f1524970a24e": {
      "model_module": "@jupyter-widgets/controls",
      "model_module_version": "1.4.0",
      "model_name": "IntSliderModel",
      "state": {
       "description": "n",
       "layout": "IPY_MODEL_d21451264a224bcbac59f78eaa43f1fc",
       "max": 50,
       "min": 5,
       "style": "IPY_MODEL_07d0013af44241d08e770f526e884132",
       "value": 10
      }
     },
     "c6e18a5c9e6643d79e6b7765c64ab52b": {
      "model_module": "@jupyter-widgets/controls",
      "model_module_version": "1.4.0",
      "model_name": "SliderStyleModel",
      "state": {
       "description_width": ""
      }
     },
     "d1c37bc7ca16404f9f74b287d6fc5fe7": {
      "model_module": "@jupyter-widgets/base",
      "model_module_version": "1.1.0",
      "model_name": "LayoutModel",
      "state": {}
     },
     "d20636a8bcbd4c3eb3a1af2316eaeed2": {
      "model_module": "@jupyter-widgets/base",
      "model_module_version": "1.1.0",
      "model_name": "LayoutModel",
      "state": {}
     },
     "d21451264a224bcbac59f78eaa43f1fc": {
      "model_module": "@jupyter-widgets/base",
      "model_module_version": "1.1.0",
      "model_name": "LayoutModel",
      "state": {}
     },
     "efc31192fdb74af89505d3685675f44e": {
      "model_module": "@jupyter-widgets/controls",
      "model_module_version": "1.4.0",
      "model_name": "IntSliderModel",
      "state": {
       "description": "max_val",
       "layout": "IPY_MODEL_8746f196aec7470c95006bccf4606996",
       "max": 30,
       "min": -10,
       "style": "IPY_MODEL_f1f994eb7e644f1b87a12f3b9a779f1c",
       "value": 10
      }
     },
     "f06d5dad99c544e4bf0e212dbc553d3d": {
      "model_module": "@jupyter-widgets/controls",
      "model_module_version": "1.4.0",
      "model_name": "SliderStyleModel",
      "state": {
       "description_width": ""
      }
     },
     "f1f994eb7e644f1b87a12f3b9a779f1c": {
      "model_module": "@jupyter-widgets/controls",
      "model_module_version": "1.4.0",
      "model_name": "SliderStyleModel",
      "state": {
       "description_width": ""
      }
     },
     "fe1b218c37c1460f9b836c19307f12ca": {
      "model_module": "@jupyter-widgets/controls",
      "model_module_version": "1.4.0",
      "model_name": "VBoxModel",
      "state": {
       "_dom_classes": [
        "widget-interact"
       ],
       "children": [
        "IPY_MODEL_b9f47dc105894e498404f1524970a24e",
        "IPY_MODEL_657215a069a1411182ad936e9800395b",
        "IPY_MODEL_efc31192fdb74af89505d3685675f44e",
        "IPY_MODEL_4ccd001e87ce415f9b968a60c45f0255"
       ],
       "layout": "IPY_MODEL_ac913b6c48bd4a759f4f00bd9f5df784"
      }
     }
    },
    "version_major": 2,
    "version_minor": 0
   }
  }
 },
 "nbformat": 4,
 "nbformat_minor": 1
}
